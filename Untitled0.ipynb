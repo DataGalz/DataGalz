{
  "nbformat": 4,
  "nbformat_minor": 0,
  "metadata": {
    "colab": {
      "name": "Untitled0.ipynb",
      "provenance": [],
      "authorship_tag": "ABX9TyPyxA9QVbzcQt30hP+YoZWr",
      "include_colab_link": true
    },
    "kernelspec": {
      "name": "python3",
      "display_name": "Python 3"
    },
    "language_info": {
      "name": "python"
    }
  },
  "cells": [
    {
      "cell_type": "markdown",
      "metadata": {
        "id": "view-in-github",
        "colab_type": "text"
      },
      "source": [
        "<a href=\"https://colab.research.google.com/github/DataGalz/DataGalz/blob/main/Untitled0.ipynb\" target=\"_parent\"><img src=\"https://colab.research.google.com/assets/colab-badge.svg\" alt=\"Open In Colab\"/></a>"
      ]
    },
    {
      "cell_type": "code",
      "metadata": {
        "colab": {
          "base_uri": "https://localhost:8080/",
          "height": 17
        },
        "id": "uHaru-u08cJP",
        "outputId": "6588a743-3aa8-48b3-a815-b8cc3ff79d51"
      },
      "source": [
        "\n",
        "import pandas as pd\n",
        "import numpy as np\n",
        "import seaborn as sns\n",
        "import matplotlib.pyplot as plt\n",
        "%matplotlib inline\n",
        "import itertools\n",
        "from itertools import chain\n",
        "from sklearn.feature_selection import RFE\n",
        "from sklearn.decomposition import PCA\n",
        "from sklearn.preprocessing import StandardScaler\n",
        "from sklearn.linear_model import LogisticRegression\n",
        "from sklearn.ensemble import VotingClassifier\n",
        "from sklearn.model_selection import GridSearchCV, cross_val_score, learning_curve, train_test_split\n",
        "from sklearn.metrics import precision_score, recall_score, confusion_matrix, roc_curve, precision_recall_curve, accuracy_score\n",
        "import warnings\n",
        "import plotly.offline as py\n",
        "py.init_notebook_mode(connected=True)\n",
        "import plotly.graph_objs as go\n",
        "import plotly.tools as tls\n",
        "import plotly.figure_factory as ff\n",
        "\n",
        "warnings.filterwarnings('ignore') #ignore warning messages "
      ],
      "execution_count": 30,
      "outputs": [
        {
          "output_type": "display_data",
          "data": {
            "text/html": [
              "        <script type=\"text/javascript\">\n",
              "        window.PlotlyConfig = {MathJaxConfig: 'local'};\n",
              "        if (window.MathJax) {MathJax.Hub.Config({SVG: {font: \"STIX-Web\"}});}\n",
              "        if (typeof require !== 'undefined') {\n",
              "        require.undef(\"plotly\");\n",
              "        requirejs.config({\n",
              "            paths: {\n",
              "                'plotly': ['https://cdn.plot.ly/plotly-latest.min']\n",
              "            }\n",
              "        });\n",
              "        require(['plotly'], function(Plotly) {\n",
              "            window._Plotly = Plotly;\n",
              "        });\n",
              "        }\n",
              "        </script>\n",
              "        "
            ]
          },
          "metadata": {}
        }
      ]
    },
    {
      "cell_type": "code",
      "metadata": {
        "id": "8odir_zB8rZm",
        "colab": {
          "base_uri": "https://localhost:8080/"
        },
        "outputId": "191a10a9-a667-4971-a134-60bcee91548f"
      },
      "source": [
        "\n",
        "url = 'https://raw.githubusercontent.com/DataGalz/DataGalz/main/CPI_MONTHLY.csv'\n",
        "data = pd.read_csv(url)\n",
        "df = pd.DataFrame(data)\n",
        "print(df)\n",
        "\n"
      ],
      "execution_count": 31,
      "outputs": [
        {
          "output_type": "stream",
          "name": "stdout",
          "text": [
            "           date  Total_CPI  Total_CPI.1  ...  CPI_XFET  CPIW  Unnamed: 10\n",
            "0    1995-01-01       86.6         86.6  ...       2.2   1.7          NaN\n",
            "1    1995-02-01       87.0         87.0  ...       1.8   1.7          NaN\n",
            "2    1995-03-01       87.2         87.2  ...       2.1   1.9          NaN\n",
            "3    1995-04-01       87.5         87.4  ...       2.1   2.0          NaN\n",
            "4    1995-05-01       87.7         87.7  ...       2.5   2.2          NaN\n",
            "..          ...        ...          ...  ...       ...   ...          ...\n",
            "315  2021-04-01      140.3        140.0  ...       1.8   2.6          NaN\n",
            "316  2021-05-01      141.0        140.5  ...       2.4   3.0          NaN\n",
            "317  2021-06-01      141.4        140.8  ...       2.2   3.0          NaN\n",
            "318  2021-07-01      142.3        141.6  ...       2.8   3.3          NaN\n",
            "319  2021-08-01      142.6        142.2  ...       3.0   3.4          NaN\n",
            "\n",
            "[320 rows x 11 columns]\n"
          ]
        }
      ]
    },
    {
      "cell_type": "code",
      "metadata": {
        "colab": {
          "base_uri": "https://localhost:8080/"
        },
        "id": "Op0RURYLXBef",
        "outputId": "5b18a710-a943-4fd5-ddff-c83e18ac4174"
      },
      "source": [
        "df.head"
      ],
      "execution_count": 27,
      "outputs": [
        {
          "output_type": "execute_result",
          "data": {
            "text/plain": [
              "<bound method NDFrame.head of            date  Total_CPI  Total_CPI.1  ...  CPI_XFET  CPIW  Unnamed: 10\n",
              "0    1995-01-01       86.6         86.6  ...       2.2   1.7          NaN\n",
              "1    1995-02-01       87.0         87.0  ...       1.8   1.7          NaN\n",
              "2    1995-03-01       87.2         87.2  ...       2.1   1.9          NaN\n",
              "3    1995-04-01       87.5         87.4  ...       2.1   2.0          NaN\n",
              "4    1995-05-01       87.7         87.7  ...       2.5   2.2          NaN\n",
              "..          ...        ...          ...  ...       ...   ...          ...\n",
              "315  2021-04-01      140.3        140.0  ...       1.8   2.6          NaN\n",
              "316  2021-05-01      141.0        140.5  ...       2.4   3.0          NaN\n",
              "317  2021-06-01      141.4        140.8  ...       2.2   3.0          NaN\n",
              "318  2021-07-01      142.3        141.6  ...       2.8   3.3          NaN\n",
              "319  2021-08-01      142.6        142.2  ...       3.0   3.4          NaN\n",
              "\n",
              "[320 rows x 11 columns]>"
            ]
          },
          "metadata": {},
          "execution_count": 27
        }
      ]
    },
    {
      "cell_type": "code",
      "metadata": {
        "colab": {
          "base_uri": "https://localhost:8080/"
        },
        "id": "jflwNc38Ys_1",
        "outputId": "bf5f62f6-5e20-48a5-dea6-1767020bcc75"
      },
      "source": [
        "df.tail"
      ],
      "execution_count": 28,
      "outputs": [
        {
          "output_type": "execute_result",
          "data": {
            "text/plain": [
              "<bound method NDFrame.tail of            date  Total_CPI  Total_CPI.1  ...  CPI_XFET  CPIW  Unnamed: 10\n",
              "0    1995-01-01       86.6         86.6  ...       2.2   1.7          NaN\n",
              "1    1995-02-01       87.0         87.0  ...       1.8   1.7          NaN\n",
              "2    1995-03-01       87.2         87.2  ...       2.1   1.9          NaN\n",
              "3    1995-04-01       87.5         87.4  ...       2.1   2.0          NaN\n",
              "4    1995-05-01       87.7         87.7  ...       2.5   2.2          NaN\n",
              "..          ...        ...          ...  ...       ...   ...          ...\n",
              "315  2021-04-01      140.3        140.0  ...       1.8   2.6          NaN\n",
              "316  2021-05-01      141.0        140.5  ...       2.4   3.0          NaN\n",
              "317  2021-06-01      141.4        140.8  ...       2.2   3.0          NaN\n",
              "318  2021-07-01      142.3        141.6  ...       2.8   3.3          NaN\n",
              "319  2021-08-01      142.6        142.2  ...       3.0   3.4          NaN\n",
              "\n",
              "[320 rows x 11 columns]>"
            ]
          },
          "metadata": {},
          "execution_count": 28
        }
      ]
    },
    {
      "cell_type": "code",
      "metadata": {
        "colab": {
          "base_uri": "https://localhost:8080/"
        },
        "id": "pRAumZ9IY0sH",
        "outputId": "47709f1e-1584-41df-91d2-6d2db169bd1b"
      },
      "source": [
        "df.dtypes"
      ],
      "execution_count": 24,
      "outputs": [
        {
          "output_type": "execute_result",
          "data": {
            "text/plain": [
              "date                                                         object\n",
              "Total CPI                                                   float64\n",
              "Total CPI, (seasonally adjusted)                            float64\n",
              "STATIC_TOTALCPICHANGE                                       float64\n",
              "CPI_TRIM                                                    float64\n",
              "CPI_MEDIAN                                                  float64\n",
              "CPI_COMMON                                                  float64\n",
              "CPIX, Percentage Change over 1 year ago (unadjusted)        float64\n",
              "CPI-XFET, Percentage Change over 1 year ago (unadjusted)    float64\n",
              "CPIW, Percentage Change over 1 year ago (unadjusted)        float64\n",
              "dtype: object"
            ]
          },
          "metadata": {},
          "execution_count": 24
        }
      ]
    }
  ]
}