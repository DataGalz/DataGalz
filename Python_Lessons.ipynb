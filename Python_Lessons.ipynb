{
  "nbformat": 4,
  "nbformat_minor": 0,
  "metadata": {
    "colab": {
      "name": "Python Lessons.ipynb",
      "provenance": [],
      "collapsed_sections": [],
      "authorship_tag": "ABX9TyNT5OhHisTsODEu5fpHtdcb",
      "include_colab_link": true
    },
    "kernelspec": {
      "name": "python3",
      "display_name": "Python 3"
    },
    "language_info": {
      "name": "python"
    }
  },
  "cells": [
    {
      "cell_type": "markdown",
      "metadata": {
        "id": "view-in-github",
        "colab_type": "text"
      },
      "source": [
        "<a href=\"https://colab.research.google.com/github/DataGalz/DataGalz/blob/main/Python_Lessons.ipynb\" target=\"_parent\"><img src=\"https://colab.research.google.com/assets/colab-badge.svg\" alt=\"Open In Colab\"/></a>"
      ]
    },
    {
      "cell_type": "code",
      "metadata": {
        "id": "ZGw_R5m9JJMq"
      },
      "source": [
        "import pandas as pd\n",
        "\n",
        "\n",
        "  "
      ],
      "execution_count": 20,
      "outputs": []
    },
    {
      "cell_type": "markdown",
      "metadata": {
        "id": "HMsDgKKfNmE2"
      },
      "source": [
        "**Break statement** "
      ]
    },
    {
      "cell_type": "code",
      "metadata": {
        "colab": {
          "base_uri": "https://localhost:8080/"
        },
        "id": "r-Chj_8YKd0e",
        "outputId": "8dc1f9bc-012e-48bb-b425-3da42b38af69"
      },
      "source": [
        "carbs =4\n",
        "protein =5\n",
        "calories = 0\n",
        "while True:\n",
        "  calories +=carbs+protein\n",
        "  print(f\"Eating more carbs {calories}\")\n",
        "  if calories < 20:\n",
        "    print(\"This is all I can eat\")\n",
        "    break\n",
        "\n",
        "\n"
      ],
      "execution_count": 30,
      "outputs": [
        {
          "output_type": "stream",
          "name": "stdout",
          "text": [
            "Eating more carbs 9\n",
            "This is all I can eat\n"
          ]
        }
      ]
    },
    {
      "cell_type": "markdown",
      "metadata": {
        "id": "xgUJZ8DAN5PN"
      },
      "source": [
        "**Continue Statement**"
      ]
    },
    {
      "cell_type": "code",
      "metadata": {
        "colab": {
          "base_uri": "https://localhost:8080/"
        },
        "id": "d7jG-zY0Njbm",
        "outputId": "c6da179b-ea9d-4842-ba38-e21f27b139a5"
      },
      "source": [
        "three_types_of_energy = {\"protein\", \"sugar\", \"fat\"}\n",
        "for energy in three_types_of_energy:\n",
        "  if energy == \"sugar\":\n",
        "    print(f\"Skipping {energy} for my health\")\n",
        "    continue\n",
        "  print (f\"eating {energy}\")"
      ],
      "execution_count": 32,
      "outputs": [
        {
          "output_type": "stream",
          "name": "stdout",
          "text": [
            "eating fat\n",
            "eating protein\n",
            "Skipping sugar for my health\n"
          ]
        }
      ]
    },
    {
      "cell_type": "markdown",
      "metadata": {
        "id": "0OtfsnQgQWze"
      },
      "source": [
        "**Creating** **calcualtions** "
      ]
    },
    {
      "cell_type": "code",
      "metadata": {
        "colab": {
          "base_uri": "https://localhost:8080/"
        },
        "id": "PSBIrNRAQdc1",
        "outputId": "ae01c6e4-5e4e-4818-bbcd-6d70fdfd7f26"
      },
      "source": [
        "\n",
        "weight = 230\n",
        "height = 172\n",
        "BMI = (weight/height)\n",
        "print( f\"I weight {weight} and {BMI}lbs of that is fat\")"
      ],
      "execution_count": 40,
      "outputs": [
        {
          "output_type": "stream",
          "name": "stdout",
          "text": [
            "I weight 230 and 1.3372093023255813lbs of that is fat\n"
          ]
        }
      ]
    },
    {
      "cell_type": "code",
      "metadata": {
        "colab": {
          "base_uri": "https://localhost:8080/"
        },
        "id": "ERtTiLolS9N4",
        "outputId": "eb878b10-6b45-4711-ec38-8fb5d943e30a"
      },
      "source": [
        "from decimal import (Decimal, getcontext)\n",
        "getcontext().prec = 2\n",
        "Decimal(1)/Decimal(3)\n"
      ],
      "execution_count": 41,
      "outputs": [
        {
          "output_type": "execute_result",
          "data": {
            "text/plain": [
              "Decimal('0.33')"
            ]
          },
          "metadata": {},
          "execution_count": 41
        }
      ]
    },
    {
      "cell_type": "code",
      "metadata": {
        "colab": {
          "base_uri": "https://localhost:8080/"
        },
        "id": "fWAgVd8kTaRu",
        "outputId": "87c0d0b8-3b33-4d66-c211-84c0191d7d5c"
      },
      "source": [
        "import math\n",
        "math.pow(2,3)"
      ],
      "execution_count": 43,
      "outputs": [
        {
          "output_type": "execute_result",
          "data": {
            "text/plain": [
              "8.0"
            ]
          },
          "metadata": {},
          "execution_count": 43
        }
      ]
    },
    {
      "cell_type": "code",
      "metadata": {
        "colab": {
          "base_uri": "https://localhost:8080/"
        },
        "id": "n-02oGNaUoiE",
        "outputId": "cf340fb6-e2a4-4d6b-d0e7-520553808c61"
      },
      "source": [
        "class JonJones:\n",
        "\n",
        "  def __len__(self):\n",
        "    return 84\n",
        "\n",
        "jon_jones = JonJones()\n",
        "len(jon_jones)"
      ],
      "execution_count": 45,
      "outputs": [
        {
          "output_type": "execute_result",
          "data": {
            "text/plain": [
              "84"
            ]
          },
          "metadata": {},
          "execution_count": 45
        }
      ]
    },
    {
      "cell_type": "markdown",
      "metadata": {
        "id": "o_SbEnm5NkY5"
      },
      "source": [
        ""
      ]
    }
  ]
}